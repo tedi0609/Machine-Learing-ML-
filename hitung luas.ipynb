{
 "cells": [
  {
   "cell_type": "code",
   "execution_count": null,
   "metadata": {},
   "outputs": [],
   "source": [
    "alas =  float(input(\"tulis luas   :\"))\n",
    "tinggi = float(input(\"tulis tinggi :\"))\n",
    "luas = (alas * tinggi) / 2\n",
    "print(\"Luas segitiga adalah %0.2f\" %luas)\n"
   ]
  },
  {
   "cell_type": "code",
   "execution_count": null,
   "metadata": {},
   "outputs": [],
   "source": [
    "matakuliah = {\n",
    "    \"mk1001\": \"pemerograman beriorentasi objek\",\n",
    "    \"mk1002\": \"Pengantar Kewarganegaraan\",\n",
    "    \"mk1003\": \"Pengantar Bahasa Inggris\",\n",
    "}\n",
    "for key in matakuliah:\n",
    "    matakuliah[\"mk1002\"]\n"
   ]
  },
  {
   "cell_type": "code",
   "execution_count": null,
   "metadata": {},
   "outputs": [],
   "source": []
  }
 ],
 "metadata": {
  "kernelspec": {
   "display_name": "Python 3",
   "language": "python",
   "name": "python3"
  },
  "language_info": {
   "codemirror_mode": {
    "name": "ipython",
    "version": 3
   },
   "file_extension": ".py",
   "mimetype": "text/x-python",
   "name": "python",
   "nbconvert_exporter": "python",
   "pygments_lexer": "ipython3",
   "version": "3.7.6"
  }
 },
 "nbformat": 4,
 "nbformat_minor": 4
}
