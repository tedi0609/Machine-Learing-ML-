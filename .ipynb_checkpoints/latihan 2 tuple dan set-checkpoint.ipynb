{
 "cells": [
  {
   "cell_type": "code",
   "execution_count": 5,
   "metadata": {},
   "outputs": [
    {
     "name": "stdout",
     "output_type": "stream",
     "text": [
      "()\n",
      "(1,)\n",
      "(1, 2, 3)\n",
      "('hello', [1, 2, 3], (4, 5, 6))\n",
      "1 2 3\n"
     ]
    }
   ],
   "source": [
    "#membuat tuple kosong\n",
    "#Output: ( )\n",
    "my_tuple = ()\n",
    "print(my_tuple)\n",
    "\n",
    "# tuple dengan 1 elemen\n",
    "# Output: (1,)\n",
    "my_tuple = (1,)\n",
    "\n",
    "print (my_tuple)\n",
    "\n",
    "# tuple berisi integer\n",
    "# output = (1, 2, 3)\n",
    "my_tuple = (1, 2, 3)\n",
    "print(my_tuple)\n",
    "\n",
    "# tuple bersarang \n",
    "# Output: (\"hello\", [1, 2, 3], (4, 5, 6))\n",
    "my_tuple = (\"hello\", [1, 2, 3], (4, 5, 6))\n",
    "print(my_tuple)\n",
    "\n",
    "# Tuple bisa tidak menggunakan tanda ()\n",
    "# output (1, 2, 3)\n",
    "my_tuple = 1, 2, 3\n",
    "\n",
    "# memasukkan anggota tuple ke variabel yang bersesuaian\n",
    "# a akan berisi 1, b berisi 2, dan c berisi 3\n",
    "# output 1 2 3\n",
    "a, b, c = my_tuple\n",
    "print(a, b, c)"
   ]
  },
  {
   "cell_type": "code",
   "execution_count": 11,
   "metadata": {},
   "outputs": [
    {
     "name": "stdout",
     "output_type": "stream",
     "text": [
      "p\n",
      "y\n",
      "n\n",
      "o\n"
     ]
    }
   ],
   "source": [
    "my_tuple = ('p', 'y', 't', 'o', 'n')\n",
    "# output: 'p'\n",
    "print(my_tuple[0])\n",
    "\n",
    "# output: 'y'\n",
    "print(my_tuple[1])\n",
    "\n",
    "# output: 'n'\n",
    "print(my_tuple[-1])\n",
    "\n",
    "# output: 'o'\n",
    "print(my_tuple[-2])\n",
    "\n"
   ]
  },
  {
   "cell_type": "code",
   "execution_count": 12,
   "metadata": {},
   "outputs": [],
   "source": [
    "my_tuple = (2, 3, 4, [5, 6])\n",
    "# kita tidak bisa mengubah anggota tuple\n",
    "# bila kita hilangkan tanda komentar # pada baris 6\n",
    "# akan muncul error: # Typeerror: 'tuple' object does not support item assignment\n",
    "# my_tuple[1] = 8\n",
    "\n",
    "# tapi list dalam tuple bisa diubah\n",
    "# output : (2, 3, 4, [7, 6])\n",
    "my_tuple[3]"
   ]
  },
  {
   "cell_type": "code",
   "execution_count": null,
   "metadata": {},
   "outputs": [],
   "source": []
  }
 ],
 "metadata": {
  "kernelspec": {
   "display_name": "Python 3",
   "language": "python",
   "name": "python3"
  },
  "language_info": {
   "codemirror_mode": {
    "name": "ipython",
    "version": 3
   },
   "file_extension": ".py",
   "mimetype": "text/x-python",
   "name": "python",
   "nbconvert_exporter": "python",
   "pygments_lexer": "ipython3",
   "version": "3.7.6"
  }
 },
 "nbformat": 4,
 "nbformat_minor": 4
}
